{
  "cells": [
    {
      "metadata": {},
      "cell_type": "markdown",
      "source": "This notebook is divided in following sections:\n\n- Install packages if missing\n- **Load data**\n  - Load data from single source\n  - Load data from multiple sources\n  - Merge multi-source data into single datasource\n- Handle **Missing values**\n- **Manipulate Data**\n- Plotting / **Visualization**\n  - Univariate Analysis\n  - Bivariate Analysis\n- Preparation of **Training & Test Dataset**\n"
    },
    {
      "metadata": {},
      "cell_type": "markdown",
      "source": "# Install packages if missing\n\nUncomment following code to install required packages"
    },
    {
      "metadata": {
        "trusted": true
      },
      "cell_type": "code",
      "source": "# ! pip install pandas  \n# ! pip install numpy \n# ! pip install matplotlib \n# ! pip install seaborn \n# ! pip install sklearn",
      "execution_count": null,
      "outputs": []
    },
    {
      "metadata": {},
      "cell_type": "markdown",
      "source": "# Load data\n\nWe use pandas to load csv data as **dataframe**\n\n[Boston dataset detail](http://www.cs.toronto.edu/~delve/data/boston/bostonDetail.html)\n\n### Variables\nThere are 14 attributes in each case of the dataset. They are:\nCRIM - per capita crime rate by town\nZN - proportion of residential land zoned for lots over 25,000 sq.ft.\nINDUS - proportion of non-retail business acres per town.\nCHAS - Charles River dummy variable (1 if tract bounds river; 0 otherwise)\nNOX - nitric oxides concentration (parts per 10 million)\nRM - average number of rooms per dwelling\nAGE - proportion of owner-occupied units built prior to 1940\nDIS - weighted distances to five Boston employment centres\nRAD - index of accessibility to radial highways\nTAX - full-value property-tax rate per $10,000\nPTRATIO - pupil-teacher ratio by town\nB - 1000(Bk - 0.63)^2 where Bk is the proportion of blacks by town\nLSTAT - % lower status of the population\nMEDV - Median value of owner-occupied homes in $1000's"
    },
    {
      "metadata": {
        "trusted": true
      },
      "cell_type": "code",
      "source": "import pandas as pd\nimport numpy as np",
      "execution_count": null,
      "outputs": []
    },
    {
      "metadata": {},
      "cell_type": "markdown",
      "source": "### Load data from single source"
    },
    {
      "metadata": {
        "trusted": true
      },
      "cell_type": "code",
      "source": "df_boston = pd.read_csv(\"boston.csv\")\ndf_boston.head()",
      "execution_count": null,
      "outputs": []
    },
    {
      "metadata": {
        "trusted": true
      },
      "cell_type": "code",
      "source": "print(\"df_boston's type =\", type(df_boston))",
      "execution_count": null,
      "outputs": []
    },
    {
      "metadata": {
        "trusted": true
      },
      "cell_type": "code",
      "source": "print(\"df_boston.shape =\", df_boston.shape)",
      "execution_count": null,
      "outputs": []
    },
    {
      "metadata": {},
      "cell_type": "markdown",
      "source": "### Load data from multiple sources (This is a seperate Data nothing to do with Boston Dataset)\n\nWe have two data files which we load and merge into a single dataframe"
    },
    {
      "metadata": {
        "trusted": true
      },
      "cell_type": "code",
      "source": "df1 = pd.read_csv(\"rating_final.tsv\", sep='\\t')\ndf2 = pd.read_csv(\"parking.csv\")",
      "execution_count": null,
      "outputs": []
    },
    {
      "metadata": {
        "trusted": true
      },
      "cell_type": "code",
      "source": "print(\"df1.shape =\", df1.shape)",
      "execution_count": null,
      "outputs": []
    },
    {
      "metadata": {
        "trusted": true
      },
      "cell_type": "code",
      "source": "print(\"df2.shape =\", df2.shape)",
      "execution_count": null,
      "outputs": []
    },
    {
      "metadata": {
        "trusted": true
      },
      "cell_type": "code",
      "source": "df1.head()",
      "execution_count": null,
      "outputs": []
    },
    {
      "metadata": {
        "trusted": true
      },
      "cell_type": "code",
      "source": "df2.head()",
      "execution_count": null,
      "outputs": []
    },
    {
      "metadata": {},
      "cell_type": "markdown",
      "source": "### Merge Data into single datasource\n\nMore information can be found in [Pandas documentation](https://pandas.pydata.org/pandas-docs/stable/merging.html) "
    },
    {
      "metadata": {
        "trusted": true
      },
      "cell_type": "code",
      "source": "df_merge = pd.merge(left=df1, right=df2, on=\"placeID\", how=\"left\")\n\nprint(\"df_merge.shape =\", df_merge.shape)\n\ndf_merge.head(10)",
      "execution_count": null,
      "outputs": []
    },
    {
      "metadata": {},
      "cell_type": "markdown",
      "source": "# Handle Missing values in boston dataset"
    },
    {
      "metadata": {
        "trusted": true
      },
      "cell_type": "code",
      "source": "print(\"df_boston.shape =\", df_boston.shape)\n\ndf_boston.head()",
      "execution_count": null,
      "outputs": []
    },
    {
      "metadata": {},
      "cell_type": "markdown",
      "source": "#### Check if any missing values in dataframe"
    },
    {
      "metadata": {
        "trusted": true
      },
      "cell_type": "code",
      "source": "df_boston.isnull().values.any()",
      "execution_count": null,
      "outputs": []
    },
    {
      "metadata": {},
      "cell_type": "markdown",
      "source": "#### To define Custom missing values . For a scenario let us consider \"n/a\", \"na\", \"--\" as missing values. How to handle it please find the explanation in the below blog.\n\nhttps://towardsdatascience.com/data-cleaning-with-python-and-pandas-detecting-missing-values-3e9c6ebcf78b"
    },
    {
      "metadata": {
        "trusted": true
      },
      "cell_type": "code",
      "source": "print (df_boston.isnull().sum())",
      "execution_count": null,
      "outputs": []
    },
    {
      "metadata": {
        "trusted": true
      },
      "cell_type": "code",
      "source": "null_data = df_boston[df_boston.isnull().any(axis=1)]\nprint(null_data)",
      "execution_count": null,
      "outputs": []
    },
    {
      "metadata": {},
      "cell_type": "markdown",
      "source": "### Drop row if they contain null values"
    },
    {
      "metadata": {
        "trusted": true
      },
      "cell_type": "code",
      "source": "df_boston = df_boston.dropna(axis=0, how='any')   # 0 = rows and 1 = columns\n\nprint(\"df_boston.shape =\", df_boston.shape)",
      "execution_count": null,
      "outputs": []
    },
    {
      "metadata": {},
      "cell_type": "markdown",
      "source": "#### Statistic summary of dataframe "
    },
    {
      "metadata": {
        "trusted": true
      },
      "cell_type": "code",
      "source": "df_boston.describe()",
      "execution_count": null,
      "outputs": []
    },
    {
      "metadata": {},
      "cell_type": "markdown",
      "source": "# Manipulate boston dataset"
    },
    {
      "metadata": {
        "trusted": true
      },
      "cell_type": "code",
      "source": "print(\"df_boston shape's =\", df_boston.shape)\n\ndf_boston.head(2)",
      "execution_count": null,
      "outputs": []
    },
    {
      "metadata": {},
      "cell_type": "markdown",
      "source": "### Select only few features/columns from dataframe"
    },
    {
      "metadata": {
        "trusted": true
      },
      "cell_type": "code",
      "source": "our_feature = ['CRIM', 'TAX', 'INDUS']\n\ndf_filtered = df_boston[our_feature]\n\nprint(\"df_filtered shape's =\", df_filtered.shape)\n\ndf_filtered.head(2)",
      "execution_count": null,
      "outputs": []
    },
    {
      "metadata": {},
      "cell_type": "markdown",
      "source": "### Remove few cases/observations from dataframe"
    },
    {
      "metadata": {
        "trusted": true
      },
      "cell_type": "code",
      "source": "drop_features = [ 0 , 2 , 3]\n\ndf_removed = df_boston.drop(drop_features, axis=0)  ##  1 = column / 0 = row\n\nprint(\"df_removed shape's =\", df_removed.shape)\n\ndf_removed.head(2)",
      "execution_count": null,
      "outputs": []
    },
    {
      "metadata": {},
      "cell_type": "markdown",
      "source": "**Select specific row by index**"
    },
    {
      "metadata": {
        "trusted": true
      },
      "cell_type": "code",
      "source": "df_boston.iloc[4]",
      "execution_count": null,
      "outputs": []
    },
    {
      "metadata": {},
      "cell_type": "markdown",
      "source": "**Select multiple rows by index range**"
    },
    {
      "metadata": {
        "trusted": true
      },
      "cell_type": "code",
      "source": "df_boston.iloc[2:4]  # start index : end index - 1",
      "execution_count": null,
      "outputs": []
    },
    {
      "metadata": {},
      "cell_type": "markdown",
      "source": "**Select single column by row index**"
    },
    {
      "metadata": {
        "trusted": true
      },
      "cell_type": "code",
      "source": "df_boston.iloc[1:4][\"NOX\"]",
      "execution_count": null,
      "outputs": []
    },
    {
      "metadata": {
        "trusted": true
      },
      "cell_type": "code",
      "source": "df_boston.iloc[1:4][\"NOX\",\"CRIM\",\"LSTAT\"]",
      "execution_count": null,
      "outputs": []
    },
    {
      "metadata": {},
      "cell_type": "markdown",
      "source": "**Select multiple column by row index**"
    },
    {
      "metadata": {
        "trusted": true
      },
      "cell_type": "code",
      "source": "columns = [\"RM\", \"AGE\"]\n\ndf_boston[columns].iloc[1:4]",
      "execution_count": null,
      "outputs": []
    },
    {
      "metadata": {},
      "cell_type": "markdown",
      "source": "# Plotting / Visualization"
    },
    {
      "metadata": {
        "trusted": true
      },
      "cell_type": "code",
      "source": "import matplotlib.pyplot as plt \n%matplotlib inline",
      "execution_count": null,
      "outputs": []
    },
    {
      "metadata": {},
      "cell_type": "markdown",
      "source": "## Univariate Analysis\n\n#### Using Histogram plot with Binning"
    },
    {
      "metadata": {
        "trusted": true
      },
      "cell_type": "code",
      "source": "f, (ax1, ax2) = plt.subplots(1, 2, figsize=(12, 4))\n\ndf_boston[\"AGE\"].plot.hist(ax=ax1, bins=5, range=(0,100))\ndf_boston[\"AGE\"].plot.hist(ax=ax2, bins=100, range=(0,100))\n\nplt.show()",
      "execution_count": null,
      "outputs": []
    },
    {
      "metadata": {
        "trusted": true
      },
      "cell_type": "code",
      "source": "df_merge.",
      "execution_count": null,
      "outputs": []
    },
    {
      "metadata": {},
      "cell_type": "markdown",
      "source": "## Bivariate Analysis\n\nUsing Scatter plot"
    },
    {
      "metadata": {
        "trusted": true
      },
      "cell_type": "code",
      "source": "print(str(df_boston['RM'].iloc[0]) + \",\", df_boston['MEDV'].iloc[0])",
      "execution_count": null,
      "outputs": []
    },
    {
      "metadata": {
        "trusted": true
      },
      "cell_type": "code",
      "source": "df_boston.plot.scatter(x='MEDV', y='LSTAT');\n\n# set x & y labels in plot\nplt.xlabel(\"MEDV\")\nplt.ylabel(\"LSTAT\")\n\nplt.show()",
      "execution_count": null,
      "outputs": []
    },
    {
      "metadata": {
        "collapsed": true
      },
      "cell_type": "markdown",
      "source": "# Preparation of Training & Test Dataset"
    },
    {
      "metadata": {
        "trusted": true
      },
      "cell_type": "code",
      "source": "from sklearn.model_selection import train_test_split",
      "execution_count": null,
      "outputs": []
    },
    {
      "metadata": {},
      "cell_type": "markdown",
      "source": "Store features in X variable and target ( or label ) in y variable"
    },
    {
      "metadata": {
        "trusted": true
      },
      "cell_type": "code",
      "source": "features = ['CRIM','ZN','INDUS','CHAS','NOX','RM','AGE','DIS','RAD','TAX','PTRATIO','B','LSTAT']\ntarget = ['MEDV']\n\nX = df_boston[features]\ny = df_boston[target]\n\nprint('df_boston shape =', df_boston.shape)\nprint('X shape =', X.shape)\nprint('y shape =', y.shape)",
      "execution_count": null,
      "outputs": []
    },
    {
      "metadata": {},
      "cell_type": "markdown",
      "source": "**Split boston dataset into train (80%) and test set (20%)**"
    },
    {
      "metadata": {
        "trusted": true
      },
      "cell_type": "code",
      "source": "X_train, X_test, y_train, y_test = train_test_split(X, y, test_size=0.2, random_state=4)\n\nprint('X_train shape =', X_train.shape)\nprint('y_train shape =', y_train.shape)\nprint('X_test shape =', X_test.shape)\nprint('y_test shape =', y_test.shape)",
      "execution_count": null,
      "outputs": []
    },
    {
      "metadata": {
        "trusted": true
      },
      "cell_type": "code",
      "source": "print(X_test.head(10))",
      "execution_count": null,
      "outputs": []
    },
    {
      "metadata": {
        "trusted": true
      },
      "cell_type": "code",
      "source": "print(y_test.head(10))",
      "execution_count": null,
      "outputs": []
    },
    {
      "metadata": {
        "trusted": true
      },
      "cell_type": "code",
      "source": "",
      "execution_count": null,
      "outputs": []
    }
  ],
  "metadata": {
    "anaconda-cloud": {},
    "kernelspec": {
      "name": "python3",
      "display_name": "Python 3",
      "language": "python"
    },
    "language_info": {
      "mimetype": "text/x-python",
      "nbconvert_exporter": "python",
      "name": "python",
      "pygments_lexer": "ipython3",
      "version": "3.5.4",
      "file_extension": ".py",
      "codemirror_mode": {
        "version": 3,
        "name": "ipython"
      }
    }
  },
  "nbformat": 4,
  "nbformat_minor": 2
}